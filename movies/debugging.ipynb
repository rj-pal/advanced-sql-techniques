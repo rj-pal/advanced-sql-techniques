{
 "cells": [
  {
   "cell_type": "code",
   "execution_count": 1,
   "id": "dc3b5082-b4c3-400e-98c9-dd29ee8de6a9",
   "metadata": {},
   "outputs": [
    {
     "name": "stdout",
     "output_type": "stream",
     "text": [
      "Keys in prettytable.__dict__:\n",
      "__name__\n",
      "__doc__\n",
      "__package__\n",
      "__loader__\n",
      "__spec__\n",
      "__path__\n",
      "__file__\n",
      "__cached__\n",
      "__builtins__\n",
      "annotations\n",
      "Any\n",
      "_version\n",
      "__version__\n",
      "prettytable\n",
      "_DEPRECATED_ALL\n",
      "_DEPRECATED_DEFAULT\n",
      "_DEPRECATED_DOUBLE_BORDER\n",
      "_DEPRECATED_FRAME\n",
      "_DEPRECATED_HEADER\n",
      "_DEPRECATED_MARKDOWN\n",
      "_DEPRECATED_MSWORD_FRIENDLY\n",
      "_DEPRECATED_NONE\n",
      "_DEPRECATED_ORGMODE\n",
      "_DEPRECATED_PLAIN_COLUMNS\n",
      "_DEPRECATED_RANDOM\n",
      "_DEPRECATED_SINGLE_BORDER\n",
      "HRuleStyle\n",
      "PrettyTable\n",
      "RowType\n",
      "TableHandler\n",
      "TableStyle\n",
      "VRuleStyle\n",
      "_warn_deprecation\n",
      "from_csv\n",
      "from_db_cursor\n",
      "from_html\n",
      "from_html_one\n",
      "from_json\n",
      "from_mediawiki\n",
      "__all__\n",
      "__getattr__\n",
      "\n",
      "Available styles via dir(prettytable):\n",
      "_DEPRECATED_ALL\n",
      "_DEPRECATED_DEFAULT\n",
      "_DEPRECATED_DOUBLE_BORDER\n",
      "_DEPRECATED_FRAME\n",
      "_DEPRECATED_HEADER\n",
      "_DEPRECATED_MARKDOWN\n",
      "_DEPRECATED_MSWORD_FRIENDLY\n",
      "_DEPRECATED_NONE\n",
      "_DEPRECATED_ORGMODE\n",
      "_DEPRECATED_PLAIN_COLUMNS\n",
      "_DEPRECATED_RANDOM\n",
      "_DEPRECATED_SINGLE_BORDER\n",
      "\n",
      "Value of prettytable.DEFAULT:\n",
      "10\n"
     ]
    },
    {
     "name": "stderr",
     "output_type": "stream",
     "text": [
      "/var/folders/n2/9mbm84vn1nggy8sn6c1bbtxm0000gn/T/ipykernel_2557/3783143175.py:15: DeprecationWarning: the 'DEFAULT' constant is deprecated, use the 'TableStyle' enum instead\n",
      "  print(prettytable.DEFAULT)\n"
     ]
    }
   ],
   "source": [
    "import prettytable\n",
    "\n",
    "### Debugging code for SQL magic using SQL Alchemy. Generated using Gemini\n",
    "\n",
    "print(\"Keys in prettytable.__dict__:\")\n",
    "for key in prettytable.__dict__.keys():\n",
    "    print(key)\n",
    "\n",
    "print(\"\\nAvailable styles via dir(prettytable):\")\n",
    "# Filter for uppercase attributes that might be styles\n",
    "for attr in dir(prettytable):\n",
    "    if attr.isupper() and not attr.startswith('__'):\n",
    "        print(attr)\n",
    "\n",
    "print(\"\\nValue of prettytable.DEFAULT:\")\n",
    "try:\n",
    "    print(prettytable.DEFAULT)\n",
    "except AttributeError:\n",
    "    print(\"prettytable.DEFAULT is not directly accessible as an attribute.\")"
   ]
  },
  {
   "cell_type": "code",
   "execution_count": null,
   "id": "0f949f7c-2f78-4bcd-b144-6b4616c841c8",
   "metadata": {},
   "outputs": [],
   "source": []
  }
 ],
 "metadata": {
  "kernelspec": {
   "display_name": "Python 3 (ipykernel)",
   "language": "python",
   "name": "python3"
  },
  "language_info": {
   "codemirror_mode": {
    "name": "ipython",
    "version": 3
   },
   "file_extension": ".py",
   "mimetype": "text/x-python",
   "name": "python",
   "nbconvert_exporter": "python",
   "pygments_lexer": "ipython3",
   "version": "3.12.4"
  }
 },
 "nbformat": 4,
 "nbformat_minor": 5
}

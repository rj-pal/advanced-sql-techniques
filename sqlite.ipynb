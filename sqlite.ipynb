{
 "cells": [
  {
   "cell_type": "code",
   "execution_count": null,
   "id": "4bb87311-fed1-4025-8767-ff4014699481",
   "metadata": {},
   "outputs": [],
   "source": [
    "import sqlite3\n",
    "import pandas as pd\n",
    "\n",
    "df = pd.read_csv('actor-films.csv')\n",
    "\n",
    "conn = sqlite3.connect(':memory:')  # Use ':memory:' for a temporary DB\n",
    "\n",
    "df.to_sql('actor_films', conn, index=False, if_exists='replace')"
   ]
  },
  {
   "cell_type": "code",
   "execution_count": null,
   "id": "61c6567b-52a3-4b8c-92e3-02e530c842b4",
   "metadata": {},
   "outputs": [],
   "source": [
    "query = \"SELECT * FROM actor_films WHERE year > 2010;\"\n",
    "\n",
    "result = pd.read_sql_query(query, conn)\n",
    "\n",
    "print(result)"
   ]
  },
  {
   "cell_type": "code",
   "execution_count": null,
   "id": "9657341f-95ae-4ab3-a577-912be0ee381f",
   "metadata": {},
   "outputs": [],
   "source": [
    "conn.close()"
   ]
  }
 ],
 "metadata": {
  "kernelspec": {
   "display_name": "Python 3 (ipykernel)",
   "language": "python",
   "name": "python3"
  },
  "language_info": {
   "codemirror_mode": {
    "name": "ipython",
    "version": 3
   },
   "file_extension": ".py",
   "mimetype": "text/x-python",
   "name": "python",
   "nbconvert_exporter": "python",
   "pygments_lexer": "ipython3",
   "version": "3.8.8"
  }
 },
 "nbformat": 4,
 "nbformat_minor": 5
}
